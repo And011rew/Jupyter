{
 "cells": [
  {
   "cell_type": "code",
   "execution_count": 1,
   "id": "4a899142",
   "metadata": {},
   "outputs": [],
   "source": [
    "import pandas as pd\n",
    "import numpy as np\n",
    "import matplotlib.pyplot as plt"
   ]
  },
  {
   "cell_type": "markdown",
   "id": "69f17cd7",
   "metadata": {},
   "source": [
    "#### Добавление датасетов в Юпитер"
   ]
  },
  {
   "cell_type": "code",
   "execution_count": 2,
   "id": "4ae60b4e",
   "metadata": {},
   "outputs": [],
   "source": [
    "orders = pd.read_csv('orders.csv', delimiter=',')\n",
    "visitors = pd.read_csv('visitors.csv', delimiter=',')"
   ]
  },
  {
   "cell_type": "markdown",
   "id": "6e83dbe7",
   "metadata": {},
   "source": [
    "#### Вывод первых 5 строк датасета orders\n"
   ]
  },
  {
   "cell_type": "code",
   "execution_count": 3,
   "id": "82494d98",
   "metadata": {},
   "outputs": [
    {
     "data": {
      "text/html": [
       "<div>\n",
       "<style scoped>\n",
       "    .dataframe tbody tr th:only-of-type {\n",
       "        vertical-align: middle;\n",
       "    }\n",
       "\n",
       "    .dataframe tbody tr th {\n",
       "        vertical-align: top;\n",
       "    }\n",
       "\n",
       "    .dataframe thead th {\n",
       "        text-align: right;\n",
       "    }\n",
       "</style>\n",
       "<table border=\"1\" class=\"dataframe\">\n",
       "  <thead>\n",
       "    <tr style=\"text-align: right;\">\n",
       "      <th></th>\n",
       "      <th>transactionId</th>\n",
       "      <th>visitorId</th>\n",
       "      <th>date</th>\n",
       "      <th>revenue</th>\n",
       "      <th>group</th>\n",
       "    </tr>\n",
       "  </thead>\n",
       "  <tbody>\n",
       "    <tr>\n",
       "      <th>0</th>\n",
       "      <td>3667963787</td>\n",
       "      <td>3312258926</td>\n",
       "      <td>2019-08-15</td>\n",
       "      <td>1650</td>\n",
       "      <td>B</td>\n",
       "    </tr>\n",
       "    <tr>\n",
       "      <th>1</th>\n",
       "      <td>2804400009</td>\n",
       "      <td>3642806036</td>\n",
       "      <td>2019-08-15</td>\n",
       "      <td>730</td>\n",
       "      <td>B</td>\n",
       "    </tr>\n",
       "    <tr>\n",
       "      <th>2</th>\n",
       "      <td>2961555356</td>\n",
       "      <td>4069496402</td>\n",
       "      <td>2019-08-15</td>\n",
       "      <td>400</td>\n",
       "      <td>A</td>\n",
       "    </tr>\n",
       "    <tr>\n",
       "      <th>3</th>\n",
       "      <td>3797467345</td>\n",
       "      <td>1196621759</td>\n",
       "      <td>2019-08-15</td>\n",
       "      <td>9759</td>\n",
       "      <td>B</td>\n",
       "    </tr>\n",
       "    <tr>\n",
       "      <th>4</th>\n",
       "      <td>2282983706</td>\n",
       "      <td>2322279887</td>\n",
       "      <td>2019-08-15</td>\n",
       "      <td>2308</td>\n",
       "      <td>B</td>\n",
       "    </tr>\n",
       "  </tbody>\n",
       "</table>\n",
       "</div>"
      ],
      "text/plain": [
       "   transactionId   visitorId        date  revenue group\n",
       "0     3667963787  3312258926  2019-08-15     1650     B\n",
       "1     2804400009  3642806036  2019-08-15      730     B\n",
       "2     2961555356  4069496402  2019-08-15      400     A\n",
       "3     3797467345  1196621759  2019-08-15     9759     B\n",
       "4     2282983706  2322279887  2019-08-15     2308     B"
      ]
     },
     "execution_count": 3,
     "metadata": {},
     "output_type": "execute_result"
    }
   ],
   "source": [
    "orders.head(5)"
   ]
  },
  {
   "cell_type": "markdown",
   "id": "e6336007",
   "metadata": {},
   "source": [
    "#### Вывод первых 5 строк датасета visitors"
   ]
  },
  {
   "cell_type": "code",
   "execution_count": 4,
   "id": "751743c4",
   "metadata": {},
   "outputs": [
    {
     "data": {
      "text/html": [
       "<div>\n",
       "<style scoped>\n",
       "    .dataframe tbody tr th:only-of-type {\n",
       "        vertical-align: middle;\n",
       "    }\n",
       "\n",
       "    .dataframe tbody tr th {\n",
       "        vertical-align: top;\n",
       "    }\n",
       "\n",
       "    .dataframe thead th {\n",
       "        text-align: right;\n",
       "    }\n",
       "</style>\n",
       "<table border=\"1\" class=\"dataframe\">\n",
       "  <thead>\n",
       "    <tr style=\"text-align: right;\">\n",
       "      <th></th>\n",
       "      <th>date</th>\n",
       "      <th>group</th>\n",
       "      <th>visitors</th>\n",
       "    </tr>\n",
       "  </thead>\n",
       "  <tbody>\n",
       "    <tr>\n",
       "      <th>0</th>\n",
       "      <td>2019-08-01</td>\n",
       "      <td>A</td>\n",
       "      <td>719</td>\n",
       "    </tr>\n",
       "    <tr>\n",
       "      <th>1</th>\n",
       "      <td>2019-08-02</td>\n",
       "      <td>A</td>\n",
       "      <td>619</td>\n",
       "    </tr>\n",
       "    <tr>\n",
       "      <th>2</th>\n",
       "      <td>2019-08-03</td>\n",
       "      <td>A</td>\n",
       "      <td>507</td>\n",
       "    </tr>\n",
       "    <tr>\n",
       "      <th>3</th>\n",
       "      <td>2019-08-04</td>\n",
       "      <td>A</td>\n",
       "      <td>717</td>\n",
       "    </tr>\n",
       "    <tr>\n",
       "      <th>4</th>\n",
       "      <td>2019-08-05</td>\n",
       "      <td>A</td>\n",
       "      <td>756</td>\n",
       "    </tr>\n",
       "  </tbody>\n",
       "</table>\n",
       "</div>"
      ],
      "text/plain": [
       "         date group  visitors\n",
       "0  2019-08-01     A       719\n",
       "1  2019-08-02     A       619\n",
       "2  2019-08-03     A       507\n",
       "3  2019-08-04     A       717\n",
       "4  2019-08-05     A       756"
      ]
     },
     "execution_count": 4,
     "metadata": {},
     "output_type": "execute_result"
    }
   ],
   "source": [
    "visitors.head(5)"
   ]
  },
  {
   "cell_type": "markdown",
   "id": "1df8c7b2",
   "metadata": {},
   "source": [
    "# Предварительная обрабока данных"
   ]
  },
  {
   "cell_type": "markdown",
   "id": "02e52a49",
   "metadata": {},
   "source": [
    "## Таблица Orders"
   ]
  },
  {
   "cell_type": "markdown",
   "id": "5dc9e3a2",
   "metadata": {},
   "source": [
    "#### Вывод информации о датасете "
   ]
  },
  {
   "cell_type": "markdown",
   "id": "407f26e9",
   "metadata": {},
   "source": [
    "Датасет содержит 1197 значений и 5 столбцов"
   ]
  },
  {
   "cell_type": "code",
   "execution_count": 5,
   "id": "076a306c",
   "metadata": {},
   "outputs": [
    {
     "name": "stdout",
     "output_type": "stream",
     "text": [
      "<class 'pandas.core.frame.DataFrame'>\n",
      "RangeIndex: 1197 entries, 0 to 1196\n",
      "Data columns (total 5 columns):\n",
      " #   Column         Non-Null Count  Dtype \n",
      "---  ------         --------------  ----- \n",
      " 0   transactionId  1197 non-null   int64 \n",
      " 1   visitorId      1197 non-null   int64 \n",
      " 2   date           1197 non-null   object\n",
      " 3   revenue        1197 non-null   int64 \n",
      " 4   group          1197 non-null   object\n",
      "dtypes: int64(3), object(2)\n",
      "memory usage: 46.9+ KB\n"
     ]
    }
   ],
   "source": [
    "orders.info()"
   ]
  },
  {
   "cell_type": "markdown",
   "id": "279bdc83",
   "metadata": {},
   "source": [
    "#### Проверка на пустые строки"
   ]
  },
  {
   "cell_type": "markdown",
   "id": "10c4bba8",
   "metadata": {},
   "source": [
    "Так как пустые строки отсутствуют, то оставляем все как есть"
   ]
  },
  {
   "cell_type": "code",
   "execution_count": 6,
   "id": "aa18c0f1",
   "metadata": {},
   "outputs": [
    {
     "data": {
      "text/plain": [
       "transactionId    0\n",
       "visitorId        0\n",
       "date             0\n",
       "revenue          0\n",
       "group            0\n",
       "dtype: int64"
      ]
     },
     "execution_count": 6,
     "metadata": {},
     "output_type": "execute_result"
    }
   ],
   "source": [
    "orders.isna().sum()"
   ]
  },
  {
   "cell_type": "markdown",
   "id": "612f4f52",
   "metadata": {},
   "source": [
    "#### Проверка на явные дубликаты"
   ]
  },
  {
   "cell_type": "markdown",
   "id": "7be1a9a6",
   "metadata": {},
   "source": [
    "Явные дубликаты отсутствуют"
   ]
  },
  {
   "cell_type": "code",
   "execution_count": 7,
   "id": "0b4cdef8",
   "metadata": {},
   "outputs": [
    {
     "data": {
      "text/plain": [
       "0"
      ]
     },
     "execution_count": 7,
     "metadata": {},
     "output_type": "execute_result"
    }
   ],
   "source": [
    "orders.duplicated().sum()"
   ]
  },
  {
   "cell_type": "markdown",
   "id": "25c9e773",
   "metadata": {},
   "source": [
    "#### Проверка на неявные дубликаты"
   ]
  },
  {
   "cell_type": "markdown",
   "id": "5962986a",
   "metadata": {},
   "source": [
    "Неявные дубликаты также отсутстуют "
   ]
  },
  {
   "cell_type": "code",
   "execution_count": 8,
   "id": "81c3a3c7",
   "metadata": {},
   "outputs": [
    {
     "name": "stdout",
     "output_type": "stream",
     "text": [
      "[3667963787 2804400009 2961555356 ... 1807773912 1947021204 3936777065]\n",
      "[3312258926 3642806036 4069496402 ...  370388673  573423106 2108080724]\n",
      "['2019-08-15' '2019-08-16' '2019-08-01' '2019-08-22' '2019-08-17'\n",
      " '2019-08-23' '2019-08-02' '2019-08-18' '2019-08-24' '2019-08-03'\n",
      " '2019-08-25' '2019-08-28' '2019-08-19' '2019-08-06' '2019-08-26'\n",
      " '2019-08-29' '2019-08-04' '2019-08-20' '2019-08-09' '2019-08-07'\n",
      " '2019-08-30' '2019-08-05' '2019-08-27' '2019-08-21' '2019-08-08'\n",
      " '2019-08-10' '2019-08-31' '2019-08-11' '2019-08-12' '2019-08-13'\n",
      " '2019-08-14']\n",
      "[   1650     730     400    9759    2308    2210    1860    1044   13710\n",
      "    1855    4008    4499    7370   11985   10980   15277    1060     990\n",
      "   16490    1190     300    1050     632   15185    7555    3488    7620\n",
      "    5280     700     190     383    1680   22785    2355    2470    6250\n",
      "   19260     610    2986    1090    9290    2480    3000    2140    3590\n",
      "    6990    1250    2970   18100     100    2750     570    2978    1440\n",
      "    7860   56650     790    1350    2540    1710    2350   14610    8999\n",
      "   10510   29499     780     890    4400   32350   40740    2490    2080\n",
      "    5400    5100    4020     690   12350    1290     382    2110    1490\n",
      "   17868    1940   26550    5970     987    9024    5555    7129    3240\n",
      "    2995    2550   17600     850    5365    8390    5870    5020   14489\n",
      "    8470    1630    5800     172    6230     760    3390    4480    1139\n",
      "   12336    1450    7990    5099    9400    6441    3070    6145   53904\n",
      "    6922    5190    6976    7690     426   28490     390     299    6329\n",
      "    8800    2990    9448    2920    9980    1790    4970    3760    8090\n",
      "   11990   18900    6420    1990     650     436    1038    1780    3564\n",
      "    3340    5480   38160    2800    3040     995    3210     310    2090\n",
      "    3468     778    5740    4580    1840    1550   17990     290    6940\n",
      "    1690    5369   11115     165    2646    2220    2190    2845    1799\n",
      "    1498    9850    6700     500    2640    4717   30649    5640    2820\n",
      "   17422   14155    4185   10960    1140    1310    1380   10791    9310\n",
      "    3470    2955   15850   27550   15485    6201    2320     599     660\n",
      "    6149    2938   10590     110   12810    9880     920   15417     950\n",
      "    2339    3190    2360   16950   34340    1620   14271    1920     380\n",
      "    8240     282   10970     170    1922   14400   19538   10450    2290\n",
      "    1830   33970    1100    4877   12680     860    3354    1000    6890\n",
      "    4299   12562     420   23750    6350     490   22040    2950    2342\n",
      "    5622    7485    1200    2057      76    1900    2690   20219    4195\n",
      "     830    2330    2526    1435    1460     250    6194    3460    5070\n",
      "    8850    1410    1758    1220    8000   15072   41450    1530    1390\n",
      "    4370    6000    2580    5160    6536    5000   14970    9080     910\n",
      "   16770    2500    1590    3990   20026   12470    4980   16680   16480\n",
      "    4780    3450    5415   16279    2385     120    1398   20990    5539\n",
      "     270   21220    1253   12550     880    9990    3890   19240    3080\n",
      "     460      70     870   26980   13990   24744    4500    8870     600\n",
      "     440     750    1950   37550   31680    9490   11249     470 1294500\n",
      "    2630    4930    3150   17650    5450    5770    1575   20450   11050\n",
      "    2000    2255    1999    7300   18464    6677    2890    6248    5270\n",
      "    4485    7349    3030      50    9232    9934    2840    8990    8780\n",
      "    4410     350   19280   13769    6681    6260    1130   11135   20100\n",
      "    2722    8885    8585    1980   10195   30990    2359     320    2590\n",
      "    8250     580    5350    3140    1910   17379    4840    6930    5690\n",
      "    6090     740   10440    4880    6590   21550   33405    3525   43990\n",
      "   13390     697    4495    8401    6382    2285   10485    6288   11711\n",
      "    3950   25080    1580   35485    9750   27490    1510    1850    4990\n",
      "    3650   33050    5530   27600    1893   31350     360    5249    6716\n",
      "    3559    5790     604    3550     240    2235   10550    4690   12888\n",
      "    7995    3220     495     265    4790     480    1721    2830     340\n",
      "    1870    2670    2420    3261    1634   39800   12990   25890   18990\n",
      "    3826   18010   10250   17030    5119    9870   13860    8877    4620\n",
      "   43690    1846      90    4190   34550   10765    7024    4698    2030\n",
      "   78990   10850     550   16990     620     654    6613   10160    6400\n",
      "    6440   27390    2050     540   42740    9680    5150     410    3680\n",
      "    5227     590    5776    2390   14495    2070    2555   19520   11688\n",
      "    4180    1399   45880    3050     295   17792   24381    1805   28350\n",
      "    6170    3270    2960    1020   10137   14490   67990   86620    4900\n",
      "   49495    3170   37150   19660   45780   24860    1737    1040    9690\n",
      "    1149    5490    1640     840   12490    4740    3480     785    7890\n",
      "    2600    3739     900    3888    1993   13770   20290    2578    5330\n",
      "    5719    2436    5030    4210    2400    8099    1540    6242   18560\n",
      "     150    4600   13740    2790   19990     980    1120   15416    3410\n",
      "    5840    4170   10170     985   22950    1180    1188    2674    4710\n",
      "   18270     770   93940    7110   12642    4920    3290   35890    4363\n",
      "    6445   58220    3740    3500    1600    1420    1729    3250     450\n",
      "   11440    4188     530   13354   17300    2180     160    1960     359\n",
      "     510   19386      75    1885    4040   25790   13203    2250   34990\n",
      "    3430   19490     720      60    7390    3910   58550     800    7240\n",
      "   18350   18463    3330    6660    4283   60450   24350    9050    5170\n",
      "   28750   11250    1730    5900    2348    3600    1320    3806    2907\n",
      "     971   14990     640    8290    5430     820    4685    2610   14250\n",
      "     130   52900    3490    4390    9800   13070   15500    6674    3404\n",
      "   18557    8439    8340   27985    6645    8640    6060    1720   15450\n",
      "    1800    8950    8280    1825    5688    4240    2061   12150    1280\n",
      "    8777    9300    8590    6015    1170    4650   39500    6585    5050\n",
      "   14000   32610   16920   65710     725    6438   66350    3320   11490\n",
      "    7500    7550   11565    2752   28060    1707    6780    5390    3260\n",
      "   17940   24990    3980    8529    5440    2510   18893   92550   52480\n",
      "    4140    3520    3180    4120     370    6385    9368    3780    1329\n",
      "    3020    6180   25250    4940   10380   15380     112   31550    8600\n",
      "    6490  202740]\n",
      "['B' 'A']\n"
     ]
    }
   ],
   "source": [
    "for nameCol in orders.columns.to_list():\n",
    "    print(orders[nameCol].unique())"
   ]
  },
  {
   "cell_type": "markdown",
   "id": "7e2f2d22",
   "metadata": {},
   "source": [
    "#### Изменение типа данных"
   ]
  },
  {
   "cell_type": "markdown",
   "id": "6f9f3e25",
   "metadata": {},
   "source": [
    "Преобразуем поле даты к типу pandas.datetime64[ns]\n"
   ]
  },
  {
   "cell_type": "code",
   "execution_count": 9,
   "id": "095779c7",
   "metadata": {},
   "outputs": [
    {
     "name": "stdout",
     "output_type": "stream",
     "text": [
      "<class 'pandas.core.frame.DataFrame'>\n",
      "RangeIndex: 1197 entries, 0 to 1196\n",
      "Data columns (total 5 columns):\n",
      " #   Column         Non-Null Count  Dtype         \n",
      "---  ------         --------------  -----         \n",
      " 0   transactionId  1197 non-null   int64         \n",
      " 1   visitorId      1197 non-null   int64         \n",
      " 2   date           1197 non-null   datetime64[ns]\n",
      " 3   revenue        1197 non-null   int64         \n",
      " 4   group          1197 non-null   object        \n",
      "dtypes: datetime64[ns](1), int64(3), object(1)\n",
      "memory usage: 105.3 KB\n"
     ]
    }
   ],
   "source": [
    "orders[\"date\"] = orders[\"date\"].astype(np.datetime64)\n",
    "orders.info(memory_usage='deep')"
   ]
  },
  {
   "cell_type": "markdown",
   "id": "fc898dc4",
   "metadata": {},
   "source": [
    "## Таблица visitors"
   ]
  },
  {
   "cell_type": "markdown",
   "id": "7cecf16d",
   "metadata": {},
   "source": [
    "#### Вывод информации о датасете "
   ]
  },
  {
   "cell_type": "markdown",
   "id": "df2c09dc",
   "metadata": {},
   "source": [
    "Датасет содержит 62 значения и 3 столбца"
   ]
  },
  {
   "cell_type": "code",
   "execution_count": 10,
   "id": "6afb2ead",
   "metadata": {},
   "outputs": [
    {
     "name": "stdout",
     "output_type": "stream",
     "text": [
      "<class 'pandas.core.frame.DataFrame'>\n",
      "RangeIndex: 62 entries, 0 to 61\n",
      "Data columns (total 3 columns):\n",
      " #   Column    Non-Null Count  Dtype \n",
      "---  ------    --------------  ----- \n",
      " 0   date      62 non-null     object\n",
      " 1   group     62 non-null     object\n",
      " 2   visitors  62 non-null     int64 \n",
      "dtypes: int64(1), object(2)\n",
      "memory usage: 8.2 KB\n"
     ]
    }
   ],
   "source": [
    "visitors.info(memory_usage='deep')"
   ]
  },
  {
   "cell_type": "markdown",
   "id": "54e0824d",
   "metadata": {},
   "source": [
    "#### Проверка на пустые строки\n"
   ]
  },
  {
   "cell_type": "markdown",
   "id": "1ad3b907",
   "metadata": {},
   "source": [
    "Так как пустые строки отсутствуют, то оставляем все как есть\n"
   ]
  },
  {
   "cell_type": "code",
   "execution_count": 11,
   "id": "1d5ade40",
   "metadata": {},
   "outputs": [
    {
     "data": {
      "text/plain": [
       "date        0\n",
       "group       0\n",
       "visitors    0\n",
       "dtype: int64"
      ]
     },
     "execution_count": 11,
     "metadata": {},
     "output_type": "execute_result"
    }
   ],
   "source": [
    "visitors.isna().sum()"
   ]
  },
  {
   "cell_type": "markdown",
   "id": "4b56b579",
   "metadata": {},
   "source": [
    "#### Проверка на явные дубликаты\n"
   ]
  },
  {
   "cell_type": "markdown",
   "id": "651ac843",
   "metadata": {},
   "source": [
    "Явные дубликаты отсутствуют\n"
   ]
  },
  {
   "cell_type": "code",
   "execution_count": 12,
   "id": "b41c873b",
   "metadata": {},
   "outputs": [
    {
     "data": {
      "text/plain": [
       "0"
      ]
     },
     "execution_count": 12,
     "metadata": {},
     "output_type": "execute_result"
    }
   ],
   "source": [
    "visitors.duplicated().sum()"
   ]
  },
  {
   "cell_type": "markdown",
   "id": "66db5fc9",
   "metadata": {},
   "source": [
    "#### Проверка на неявные дубликаты"
   ]
  },
  {
   "cell_type": "markdown",
   "id": "15b92bea",
   "metadata": {},
   "source": [
    "Неявные дубликаты также отсутстуют\n"
   ]
  },
  {
   "cell_type": "code",
   "execution_count": 13,
   "id": "0e010bdc",
   "metadata": {},
   "outputs": [
    {
     "name": "stdout",
     "output_type": "stream",
     "text": [
      "['2019-08-01' '2019-08-02' '2019-08-03' '2019-08-04' '2019-08-05'\n",
      " '2019-08-06' '2019-08-07' '2019-08-08' '2019-08-09' '2019-08-10'\n",
      " '2019-08-11' '2019-08-12' '2019-08-13' '2019-08-14' '2019-08-15'\n",
      " '2019-08-16' '2019-08-17' '2019-08-18' '2019-08-19' '2019-08-20'\n",
      " '2019-08-21' '2019-08-22' '2019-08-23' '2019-08-24' '2019-08-25'\n",
      " '2019-08-26' '2019-08-27' '2019-08-28' '2019-08-29' '2019-08-30'\n",
      " '2019-08-31']\n",
      "['A' 'B']\n",
      "[719 619 507 717 756 667 644 610 617 406 718 595 748 735 628 361 412 668\n",
      " 502 575 646 609 468 395 621 722 711 594 577 490 699 713 581 509 770 707\n",
      " 655 709 654 369 721 543 769 746 544 413 421 737 487 560 656 650 546 378\n",
      " 679 676 720 531]\n"
     ]
    }
   ],
   "source": [
    "for nameCol in visitors.columns.to_list():\n",
    "    print(visitors[nameCol].unique())"
   ]
  },
  {
   "cell_type": "markdown",
   "id": "de40c0db",
   "metadata": {},
   "source": [
    "#### Изменение типа данных"
   ]
  },
  {
   "cell_type": "markdown",
   "id": "4479ed3e",
   "metadata": {},
   "source": [
    "Преобразуем поле даты к типу pandas.datetime64[ns]\n"
   ]
  },
  {
   "cell_type": "code",
   "execution_count": 14,
   "id": "b3d4ba70",
   "metadata": {},
   "outputs": [
    {
     "name": "stdout",
     "output_type": "stream",
     "text": [
      "<class 'pandas.core.frame.DataFrame'>\n",
      "RangeIndex: 62 entries, 0 to 61\n",
      "Data columns (total 3 columns):\n",
      " #   Column    Non-Null Count  Dtype         \n",
      "---  ------    --------------  -----         \n",
      " 0   date      62 non-null     datetime64[ns]\n",
      " 1   group     62 non-null     object        \n",
      " 2   visitors  62 non-null     int64         \n",
      "dtypes: datetime64[ns](1), int64(1), object(1)\n",
      "memory usage: 4.6 KB\n"
     ]
    }
   ],
   "source": [
    "visitors[\"date\"] = visitors[\"date\"].astype(np.datetime64)\n",
    "visitors.info(memory_usage='deep')"
   ]
  },
  {
   "cell_type": "markdown",
   "id": "2c30011e",
   "metadata": {},
   "source": [
    "### Задание под пунктом 5"
   ]
  },
  {
   "cell_type": "markdown",
   "id": "cdd96b4b",
   "metadata": {},
   "source": [
    "Выполним поиск пересекающихся пользователей в таблице orders и удалим их\n"
   ]
  },
  {
   "cell_type": "code",
   "execution_count": 15,
   "id": "943cd782",
   "metadata": {},
   "outputs": [],
   "source": [
    "ordersGroupA = orders[orders['group'] == 'A']\n",
    "ordersGroupB = orders[orders['group'] == 'B']"
   ]
  },
  {
   "cell_type": "code",
   "execution_count": 16,
   "id": "e88c2c79",
   "metadata": {},
   "outputs": [
    {
     "name": "stdout",
     "output_type": "stream",
     "text": [
      "Deleted \n",
      "183\n"
     ]
    }
   ],
   "source": [
    "delCnt = 0\n",
    "for indexA, rowOrderA in ordersGroupA.iterrows():\n",
    "    for indexB, rowOrderB in ordersGroupB.iterrows():\n",
    "        if rowOrderA['visitorId'] == rowOrderB['visitorId']:\n",
    "            orders = orders.drop(orders[orders.visitorId == rowOrderA['visitorId']].index)\n",
    "            delCnt += 1\n",
    "            continue\n",
    "            \n",
    "print('Deleted ')\n",
    "print(delCnt)"
   ]
  },
  {
   "cell_type": "markdown",
   "id": "5a326332",
   "metadata": {},
   "source": [
    "В результате поиска было удалено 183 пользователя"
   ]
  },
  {
   "cell_type": "markdown",
   "id": "25b02ec9",
   "metadata": {},
   "source": [
    "### Задание под пунктом 6"
   ]
  },
  {
   "cell_type": "markdown",
   "id": "86d3be30",
   "metadata": {},
   "source": [
    "Создали массив уникальных пар дат и групп теста\n"
   ]
  },
  {
   "cell_type": "code",
   "execution_count": 17,
   "id": "b583e45a",
   "metadata": {},
   "outputs": [],
   "source": [
    "datesGroups = orders[['date','group']].drop_duplicates()"
   ]
  },
  {
   "cell_type": "markdown",
   "id": "fe3abd31",
   "metadata": {},
   "source": [
    "### Задание под пунктом 7"
   ]
  },
  {
   "cell_type": "markdown",
   "id": "9262cc6f",
   "metadata": {},
   "source": [
    "Получим кумулятивные агрегированные даные по дням о заказах"
   ]
  },
  {
   "cell_type": "code",
   "execution_count": 18,
   "id": "2e73d646",
   "metadata": {
    "scrolled": true
   },
   "outputs": [
    {
     "data": {
      "text/html": [
       "<div>\n",
       "<style scoped>\n",
       "    .dataframe tbody tr th:only-of-type {\n",
       "        vertical-align: middle;\n",
       "    }\n",
       "\n",
       "    .dataframe tbody tr th {\n",
       "        vertical-align: top;\n",
       "    }\n",
       "\n",
       "    .dataframe thead th {\n",
       "        text-align: right;\n",
       "    }\n",
       "</style>\n",
       "<table border=\"1\" class=\"dataframe\">\n",
       "  <thead>\n",
       "    <tr style=\"text-align: right;\">\n",
       "      <th></th>\n",
       "      <th>date</th>\n",
       "      <th>group</th>\n",
       "      <th>transactionId</th>\n",
       "      <th>visitorId</th>\n",
       "      <th>revenue</th>\n",
       "    </tr>\n",
       "  </thead>\n",
       "  <tbody>\n",
       "    <tr>\n",
       "      <th>55</th>\n",
       "      <td>2019-08-01</td>\n",
       "      <td>A</td>\n",
       "      <td>23</td>\n",
       "      <td>19</td>\n",
       "      <td>142779</td>\n",
       "    </tr>\n",
       "    <tr>\n",
       "      <th>66</th>\n",
       "      <td>2019-08-01</td>\n",
       "      <td>B</td>\n",
       "      <td>17</td>\n",
       "      <td>17</td>\n",
       "      <td>59758</td>\n",
       "    </tr>\n",
       "    <tr>\n",
       "      <th>175</th>\n",
       "      <td>2019-08-02</td>\n",
       "      <td>A</td>\n",
       "      <td>42</td>\n",
       "      <td>36</td>\n",
       "      <td>234381</td>\n",
       "    </tr>\n",
       "    <tr>\n",
       "      <th>173</th>\n",
       "      <td>2019-08-02</td>\n",
       "      <td>B</td>\n",
       "      <td>40</td>\n",
       "      <td>39</td>\n",
       "      <td>221801</td>\n",
       "    </tr>\n",
       "    <tr>\n",
       "      <th>291</th>\n",
       "      <td>2019-08-03</td>\n",
       "      <td>A</td>\n",
       "      <td>66</td>\n",
       "      <td>60</td>\n",
       "      <td>346854</td>\n",
       "    </tr>\n",
       "  </tbody>\n",
       "</table>\n",
       "</div>"
      ],
      "text/plain": [
       "          date group  transactionId  visitorId  revenue\n",
       "55  2019-08-01     A             23         19   142779\n",
       "66  2019-08-01     B             17         17    59758\n",
       "175 2019-08-02     A             42         36   234381\n",
       "173 2019-08-02     B             40         39   221801\n",
       "291 2019-08-03     A             66         60   346854"
      ]
     },
     "execution_count": 18,
     "metadata": {},
     "output_type": "execute_result"
    }
   ],
   "source": [
    "ordersAgreagated = datesGroups.apply(\n",
    "    lambda x: \n",
    "        orders[np.logical_and(\n",
    "            orders['date'] <= x['date'], \n",
    "            orders['group'] == x['group'])\n",
    "        ].\n",
    "        agg({'date' : 'max', \n",
    "             'group' : 'max', \n",
    "             'transactionId' : 'nunique', \n",
    "             'visitorId' : 'nunique', \n",
    "             'revenue' : 'sum'}), axis=1).sort_values(by=['date','group'])\n",
    "ordersAgreagated.head()"
   ]
  },
  {
   "cell_type": "markdown",
   "id": "07257067",
   "metadata": {},
   "source": [
    "### Задание под пунктом 8"
   ]
  },
  {
   "cell_type": "markdown",
   "id": "d4527d68",
   "metadata": {},
   "source": [
    "Получим кумулятивные агрегированные данные по дням о посетителях\n"
   ]
  },
  {
   "cell_type": "code",
   "execution_count": 19,
   "id": "70dd1ba7",
   "metadata": {},
   "outputs": [
    {
     "data": {
      "text/html": [
       "<div>\n",
       "<style scoped>\n",
       "    .dataframe tbody tr th:only-of-type {\n",
       "        vertical-align: middle;\n",
       "    }\n",
       "\n",
       "    .dataframe tbody tr th {\n",
       "        vertical-align: top;\n",
       "    }\n",
       "\n",
       "    .dataframe thead th {\n",
       "        text-align: right;\n",
       "    }\n",
       "</style>\n",
       "<table border=\"1\" class=\"dataframe\">\n",
       "  <thead>\n",
       "    <tr style=\"text-align: right;\">\n",
       "      <th></th>\n",
       "      <th>date</th>\n",
       "      <th>group</th>\n",
       "      <th>visitors</th>\n",
       "    </tr>\n",
       "  </thead>\n",
       "  <tbody>\n",
       "    <tr>\n",
       "      <th>55</th>\n",
       "      <td>2019-08-01</td>\n",
       "      <td>A</td>\n",
       "      <td>719</td>\n",
       "    </tr>\n",
       "    <tr>\n",
       "      <th>66</th>\n",
       "      <td>2019-08-01</td>\n",
       "      <td>B</td>\n",
       "      <td>713</td>\n",
       "    </tr>\n",
       "    <tr>\n",
       "      <th>175</th>\n",
       "      <td>2019-08-02</td>\n",
       "      <td>A</td>\n",
       "      <td>1338</td>\n",
       "    </tr>\n",
       "    <tr>\n",
       "      <th>173</th>\n",
       "      <td>2019-08-02</td>\n",
       "      <td>B</td>\n",
       "      <td>1294</td>\n",
       "    </tr>\n",
       "    <tr>\n",
       "      <th>291</th>\n",
       "      <td>2019-08-03</td>\n",
       "      <td>A</td>\n",
       "      <td>1845</td>\n",
       "    </tr>\n",
       "  </tbody>\n",
       "</table>\n",
       "</div>"
      ],
      "text/plain": [
       "          date group  visitors\n",
       "55  2019-08-01     A       719\n",
       "66  2019-08-01     B       713\n",
       "175 2019-08-02     A      1338\n",
       "173 2019-08-02     B      1294\n",
       "291 2019-08-03     A      1845"
      ]
     },
     "execution_count": 19,
     "metadata": {},
     "output_type": "execute_result"
    }
   ],
   "source": [
    "visitorsAggregated = datesGroups.apply(lambda x: \n",
    "    visitors[np.logical_and(\n",
    "        visitors['date'] <= x['date'], \n",
    "        visitors['group'] == x['group'])\n",
    "    ].\n",
    "    agg({'date' : 'max', \n",
    "         'group' : 'max', \n",
    "         'visitors' : 'sum'}), axis=1).sort_values(by=['date','group'])\n",
    "visitorsAggregated.head()"
   ]
  },
  {
   "cell_type": "markdown",
   "id": "a7dca0b5",
   "metadata": {},
   "source": [
    "### Задание под пунктом 9"
   ]
  },
  {
   "cell_type": "markdown",
   "id": "4fa65119",
   "metadata": {},
   "source": [
    "Объеденяем данные в одной таблице и заменяем названия столбцов"
   ]
  },
  {
   "cell_type": "code",
   "execution_count": 20,
   "id": "79a25230",
   "metadata": {},
   "outputs": [
    {
     "data": {
      "text/html": [
       "<div>\n",
       "<style scoped>\n",
       "    .dataframe tbody tr th:only-of-type {\n",
       "        vertical-align: middle;\n",
       "    }\n",
       "\n",
       "    .dataframe tbody tr th {\n",
       "        vertical-align: top;\n",
       "    }\n",
       "\n",
       "    .dataframe thead th {\n",
       "        text-align: right;\n",
       "    }\n",
       "</style>\n",
       "<table border=\"1\" class=\"dataframe\">\n",
       "  <thead>\n",
       "    <tr style=\"text-align: right;\">\n",
       "      <th></th>\n",
       "      <th>date</th>\n",
       "      <th>group</th>\n",
       "      <th>orders</th>\n",
       "      <th>byers</th>\n",
       "      <th>revenue</th>\n",
       "      <th>visitors</th>\n",
       "    </tr>\n",
       "  </thead>\n",
       "  <tbody>\n",
       "    <tr>\n",
       "      <th>55</th>\n",
       "      <td>2019-08-01</td>\n",
       "      <td>A</td>\n",
       "      <td>23</td>\n",
       "      <td>19</td>\n",
       "      <td>142779</td>\n",
       "      <td>719</td>\n",
       "    </tr>\n",
       "    <tr>\n",
       "      <th>66</th>\n",
       "      <td>2019-08-01</td>\n",
       "      <td>B</td>\n",
       "      <td>17</td>\n",
       "      <td>17</td>\n",
       "      <td>59758</td>\n",
       "      <td>713</td>\n",
       "    </tr>\n",
       "    <tr>\n",
       "      <th>175</th>\n",
       "      <td>2019-08-02</td>\n",
       "      <td>A</td>\n",
       "      <td>42</td>\n",
       "      <td>36</td>\n",
       "      <td>234381</td>\n",
       "      <td>1338</td>\n",
       "    </tr>\n",
       "    <tr>\n",
       "      <th>173</th>\n",
       "      <td>2019-08-02</td>\n",
       "      <td>B</td>\n",
       "      <td>40</td>\n",
       "      <td>39</td>\n",
       "      <td>221801</td>\n",
       "      <td>1294</td>\n",
       "    </tr>\n",
       "    <tr>\n",
       "      <th>291</th>\n",
       "      <td>2019-08-03</td>\n",
       "      <td>A</td>\n",
       "      <td>66</td>\n",
       "      <td>60</td>\n",
       "      <td>346854</td>\n",
       "      <td>1845</td>\n",
       "    </tr>\n",
       "  </tbody>\n",
       "</table>\n",
       "</div>"
      ],
      "text/plain": [
       "          date group  orders  byers  revenue  visitors\n",
       "55  2019-08-01     A      23     19   142779       719\n",
       "66  2019-08-01     B      17     17    59758       713\n",
       "175 2019-08-02     A      42     36   234381      1338\n",
       "173 2019-08-02     B      40     39   221801      1294\n",
       "291 2019-08-03     A      66     60   346854      1845"
      ]
     },
     "execution_count": 20,
     "metadata": {},
     "output_type": "execute_result"
    }
   ],
   "source": [
    "cumulativeData = ordersAgreagated\n",
    "cumulativeData = cumulativeData.join(visitorsAggregated.drop(['date', 'group'], axis=1), sort=False)\n",
    "cumulativeData.rename(columns={'transactionId': 'orders', 'visitorId': 'byers'}, inplace=True)\n",
    "cumulativeData.head()"
   ]
  },
  {
   "cell_type": "markdown",
   "id": "d031870e",
   "metadata": {},
   "source": [
    "### Задание под пунктом 10"
   ]
  },
  {
   "cell_type": "markdown",
   "id": "0af6ea77",
   "metadata": {},
   "source": [
    "4 вариант – Изобразить точечный график числа заказов по пользователям"
   ]
  },
  {
   "cell_type": "markdown",
   "id": "f47a852d",
   "metadata": {},
   "source": [
    "Для этого с помощью groupby была получена таблица ordersByUsers следующего вида"
   ]
  },
  {
   "cell_type": "code",
   "execution_count": 21,
   "id": "bf2396f5",
   "metadata": {},
   "outputs": [
    {
     "data": {
      "text/html": [
       "<div>\n",
       "<style scoped>\n",
       "    .dataframe tbody tr th:only-of-type {\n",
       "        vertical-align: middle;\n",
       "    }\n",
       "\n",
       "    .dataframe tbody tr th {\n",
       "        vertical-align: top;\n",
       "    }\n",
       "\n",
       "    .dataframe thead th {\n",
       "        text-align: right;\n",
       "    }\n",
       "</style>\n",
       "<table border=\"1\" class=\"dataframe\">\n",
       "  <thead>\n",
       "    <tr style=\"text-align: right;\">\n",
       "      <th></th>\n",
       "      <th>visitorId</th>\n",
       "      <th>orders</th>\n",
       "    </tr>\n",
       "  </thead>\n",
       "  <tbody>\n",
       "    <tr>\n",
       "      <th>908</th>\n",
       "      <td>3967698036</td>\n",
       "      <td>3</td>\n",
       "    </tr>\n",
       "    <tr>\n",
       "      <th>55</th>\n",
       "      <td>249864742</td>\n",
       "      <td>3</td>\n",
       "    </tr>\n",
       "    <tr>\n",
       "      <th>478</th>\n",
       "      <td>2108163459</td>\n",
       "      <td>3</td>\n",
       "    </tr>\n",
       "    <tr>\n",
       "      <th>687</th>\n",
       "      <td>2988190573</td>\n",
       "      <td>3</td>\n",
       "    </tr>\n",
       "    <tr>\n",
       "      <th>890</th>\n",
       "      <td>3908431265</td>\n",
       "      <td>3</td>\n",
       "    </tr>\n",
       "  </tbody>\n",
       "</table>\n",
       "</div>"
      ],
      "text/plain": [
       "      visitorId  orders\n",
       "908  3967698036       3\n",
       "55    249864742       3\n",
       "478  2108163459       3\n",
       "687  2988190573       3\n",
       "890  3908431265       3"
      ]
     },
     "execution_count": 21,
     "metadata": {},
     "output_type": "execute_result"
    }
   ],
   "source": [
    "#создадим таблицу по заказам\n",
    "\n",
    "ordersByUsers = (\n",
    "    orders.drop(['group', 'revenue', 'date'], axis=1)\n",
    "    .groupby('visitorId', as_index=False)\n",
    "    .agg({'transactionId': pd.Series.nunique})\n",
    ")\n",
    "\n",
    "ordersByUsers.columns = ['visitorId', 'orders']\n",
    "ordersByUsers.sort_values(by='orders', ascending=False).head()"
   ]
  },
  {
   "cell_type": "markdown",
   "id": "82e7e6f3",
   "metadata": {},
   "source": [
    "А затем построен точечный график с помощью scatter по оси у – отложено ‘orders’, по оси х - pd.Series(range(0,len(ordersByUsers)))"
   ]
  },
  {
   "cell_type": "code",
   "execution_count": 22,
   "id": "4dc873c4",
   "metadata": {},
   "outputs": [
    {
     "data": {
      "image/png": "[encoded data removed]",
      "text/plain": [
       "<Figure size 432x288 with 1 Axes>"
      ]
     },
     "metadata": {
      "needs_background": "light"
     },
     "output_type": "display_data"
    }
   ],
   "source": [
    "fig, ax = plt.subplots()\n",
    "ax.scatter(pd.Series(range(0,len(ordersByUsers))), ordersByUsers[\"orders\"], c = 'purple') \n",
    "plt.show()"
   ]
  },
  {
   "cell_type": "markdown",
   "id": "28d0115e",
   "metadata": {},
   "source": [
    "В результате построения данного графика можно сделать вывод, что наибольшее число посетителей имеют всего 1 заказ."
   ]
  },
  {
   "cell_type": "markdown",
   "id": "7cbf739d",
   "metadata": {},
   "source": [
    "# 2 часть"
   ]
  },
  {
   "cell_type": "markdown",
   "id": "918bce31",
   "metadata": {},
   "source": [
    "## Таблица log_exp"
   ]
  },
  {
   "cell_type": "code",
   "execution_count": 23,
   "id": "2165cc75",
   "metadata": {},
   "outputs": [],
   "source": [
    "log_exp = pd.read_csv('logs_exp.csv', delimiter='\\t')"
   ]
  },
  {
   "cell_type": "markdown",
   "id": "6341321c",
   "metadata": {},
   "source": [
    "#### Вывод первых 5 строк датасета"
   ]
  },
  {
   "cell_type": "code",
   "execution_count": 24,
   "id": "f6c30ac4",
   "metadata": {},
   "outputs": [
    {
     "data": {
      "text/html": [
       "<div>\n",
       "<style scoped>\n",
       "    .dataframe tbody tr th:only-of-type {\n",
       "        vertical-align: middle;\n",
       "    }\n",
       "\n",
       "    .dataframe tbody tr th {\n",
       "        vertical-align: top;\n",
       "    }\n",
       "\n",
       "    .dataframe thead th {\n",
       "        text-align: right;\n",
       "    }\n",
       "</style>\n",
       "<table border=\"1\" class=\"dataframe\">\n",
       "  <thead>\n",
       "    <tr style=\"text-align: right;\">\n",
       "      <th></th>\n",
       "      <th>EventName</th>\n",
       "      <th>DeviceIDHash</th>\n",
       "      <th>EventTimestamp</th>\n",
       "      <th>ExpId</th>\n",
       "    </tr>\n",
       "  </thead>\n",
       "  <tbody>\n",
       "    <tr>\n",
       "      <th>0</th>\n",
       "      <td>MainScreenAppear</td>\n",
       "      <td>4575588528974610257</td>\n",
       "      <td>1564029816</td>\n",
       "      <td>246</td>\n",
       "    </tr>\n",
       "    <tr>\n",
       "      <th>1</th>\n",
       "      <td>MainScreenAppear</td>\n",
       "      <td>7416695313311560658</td>\n",
       "      <td>1564053102</td>\n",
       "      <td>246</td>\n",
       "    </tr>\n",
       "    <tr>\n",
       "      <th>2</th>\n",
       "      <td>PaymentScreenSuccessful</td>\n",
       "      <td>3518123091307005509</td>\n",
       "      <td>1564054127</td>\n",
       "      <td>248</td>\n",
       "    </tr>\n",
       "    <tr>\n",
       "      <th>3</th>\n",
       "      <td>CartScreenAppear</td>\n",
       "      <td>3518123091307005509</td>\n",
       "      <td>1564054127</td>\n",
       "      <td>248</td>\n",
       "    </tr>\n",
       "    <tr>\n",
       "      <th>4</th>\n",
       "      <td>PaymentScreenSuccessful</td>\n",
       "      <td>6217807653094995999</td>\n",
       "      <td>1564055322</td>\n",
       "      <td>248</td>\n",
       "    </tr>\n",
       "  </tbody>\n",
       "</table>\n",
       "</div>"
      ],
      "text/plain": [
       "                 EventName         DeviceIDHash  EventTimestamp  ExpId\n",
       "0         MainScreenAppear  4575588528974610257      1564029816    246\n",
       "1         MainScreenAppear  7416695313311560658      1564053102    246\n",
       "2  PaymentScreenSuccessful  3518123091307005509      1564054127    248\n",
       "3         CartScreenAppear  3518123091307005509      1564054127    248\n",
       "4  PaymentScreenSuccessful  6217807653094995999      1564055322    248"
      ]
     },
     "execution_count": 24,
     "metadata": {},
     "output_type": "execute_result"
    }
   ],
   "source": [
    "log_exp.head(5)"
   ]
  },
  {
   "cell_type": "markdown",
   "id": "a5373cee",
   "metadata": {},
   "source": [
    "#### Вывод информации о датасете"
   ]
  },
  {
   "cell_type": "markdown",
   "id": "4fd10e73",
   "metadata": {},
   "source": [
    "Датасет содержит 244126 значение и 4 столбца"
   ]
  },
  {
   "cell_type": "code",
   "execution_count": 25,
   "id": "0952d750",
   "metadata": {},
   "outputs": [
    {
     "name": "stdout",
     "output_type": "stream",
     "text": [
      "<class 'pandas.core.frame.DataFrame'>\n",
      "RangeIndex: 244126 entries, 0 to 244125\n",
      "Data columns (total 4 columns):\n",
      " #   Column          Non-Null Count   Dtype \n",
      "---  ------          --------------   ----- \n",
      " 0   EventName       244126 non-null  object\n",
      " 1   DeviceIDHash    244126 non-null  int64 \n",
      " 2   EventTimestamp  244126 non-null  int64 \n",
      " 3   ExpId           244126 non-null  int64 \n",
      "dtypes: int64(3), object(1)\n",
      "memory usage: 22.9 MB\n"
     ]
    }
   ],
   "source": [
    "log_exp.info(memory_usage='deep')"
   ]
  },
  {
   "cell_type": "markdown",
   "id": "fef072c8",
   "metadata": {},
   "source": [
    "#### Проверка на пустые строки"
   ]
  },
  {
   "cell_type": "markdown",
   "id": "bb0f739c",
   "metadata": {},
   "source": [
    "Так как пустые строки отсутствуют, то оставляем все как есть"
   ]
  },
  {
   "cell_type": "code",
   "execution_count": 26,
   "id": "8cb9691b",
   "metadata": {},
   "outputs": [
    {
     "data": {
      "text/plain": [
       "EventName         0\n",
       "DeviceIDHash      0\n",
       "EventTimestamp    0\n",
       "ExpId             0\n",
       "dtype: int64"
      ]
     },
     "execution_count": 26,
     "metadata": {},
     "output_type": "execute_result"
    }
   ],
   "source": [
    "log_exp.isna().sum()"
   ]
  },
  {
   "cell_type": "markdown",
   "id": "c76c5ac7",
   "metadata": {},
   "source": [
    "#### Проверка на явные дубликаты\n"
   ]
  },
  {
   "cell_type": "code",
   "execution_count": 27,
   "id": "01cf8185",
   "metadata": {},
   "outputs": [
    {
     "data": {
      "text/plain": [
       "413"
      ]
     },
     "execution_count": 27,
     "metadata": {},
     "output_type": "execute_result"
    }
   ],
   "source": [
    "log_exp.duplicated().sum()"
   ]
  },
  {
   "cell_type": "markdown",
   "id": "0ad79550",
   "metadata": {},
   "source": [
    "Найдено 413 явных дубликатов"
   ]
  },
  {
   "cell_type": "markdown",
   "id": "e321c11a",
   "metadata": {},
   "source": [
    "#### Производим удаление явных дубликатов"
   ]
  },
  {
   "cell_type": "code",
   "execution_count": 28,
   "id": "9dbca829",
   "metadata": {},
   "outputs": [
    {
     "data": {
      "text/plain": [
       "0"
      ]
     },
     "execution_count": 28,
     "metadata": {},
     "output_type": "execute_result"
    }
   ],
   "source": [
    "log_exp = log_exp.drop_duplicates().reset_index()\n",
    "log_exp.duplicated().sum()"
   ]
  },
  {
   "cell_type": "markdown",
   "id": "65a8b491",
   "metadata": {},
   "source": [
    "#### Проверка на неявные дубликаты"
   ]
  },
  {
   "cell_type": "markdown",
   "id": "c6634e5b",
   "metadata": {},
   "source": [
    "Неявные дубликаты также отсутстуют\n"
   ]
  },
  {
   "cell_type": "code",
   "execution_count": 29,
   "id": "bc4e8d66",
   "metadata": {},
   "outputs": [
    {
     "name": "stdout",
     "output_type": "stream",
     "text": [
      "[     0      1      2 ... 244123 244124 244125]\n",
      "['MainScreenAppear' 'PaymentScreenSuccessful' 'CartScreenAppear'\n",
      " 'OffersScreenAppear' 'Tutorial']\n",
      "[4575588528974610257 7416695313311560658 3518123091307005509 ...\n",
      " 6660805781687343085 7823752606740475984 3454683894921357834]\n",
      "[1564029816 1564053102 1564054127 ... 1565212483 1565212498 1565212517]\n",
      "[246 248 247]\n"
     ]
    }
   ],
   "source": [
    "for nameCol in log_exp.columns.to_list():\n",
    "    print(log_exp[nameCol].unique())"
   ]
  },
  {
   "cell_type": "markdown",
   "id": "8e48126c",
   "metadata": {},
   "source": [
    "### Задание под пунктом 5"
   ]
  },
  {
   "cell_type": "markdown",
   "id": "929dd990",
   "metadata": {},
   "source": [
    "Вывод на экран количество каждого события в порядке убывания частоты (event_name).\n"
   ]
  },
  {
   "cell_type": "code",
   "execution_count": 30,
   "id": "e260e2f9",
   "metadata": {},
   "outputs": [
    {
     "name": "stdout",
     "output_type": "stream",
     "text": [
      "                          Count\n",
      "EventName                      \n",
      "MainScreenAppear         119101\n",
      "OffersScreenAppear        46808\n",
      "CartScreenAppear          42668\n",
      "PaymentScreenSuccessful   34118\n",
      "Tutorial                   1018\n"
     ]
    }
   ],
   "source": [
    "dfP5 = log_exp\n",
    "dfP5['Count'] = [1 for i in range(0, len(dfP5))]\n",
    "dfP5 = dfP5[['EventName', 'Count']]\n",
    "print(dfP5.groupby('EventName').count().sort_values(by='Count', ascending=False))"
   ]
  },
  {
   "cell_type": "markdown",
   "id": "b66598c5",
   "metadata": {},
   "source": [
    "Исходя из полученных значений можно сделать вывод, что событие MainScreenAppear встречается чаще\n"
   ]
  },
  {
   "cell_type": "markdown",
   "id": "b9f154c5",
   "metadata": {},
   "source": [
    "### Задание под пунктом 6"
   ]
  },
  {
   "cell_type": "markdown",
   "id": "a78e34ff",
   "metadata": {},
   "source": [
    "Подсчет количества пользователей, которые совершали каждое из этих действий\n"
   ]
  },
  {
   "cell_type": "code",
   "execution_count": 31,
   "id": "42ef8bb9",
   "metadata": {},
   "outputs": [
    {
     "name": "stdout",
     "output_type": "stream",
     "text": [
      "                        DeviceIDHash\n",
      "                             nunique\n",
      "EventName                           \n",
      "CartScreenAppear                3749\n",
      "MainScreenAppear                7439\n",
      "OffersScreenAppear              4613\n",
      "PaymentScreenSuccessful         3547\n",
      "Tutorial                         847\n"
     ]
    }
   ],
   "source": [
    "print(log_exp.groupby('EventName').agg(\n",
    "    {'DeviceIDHash': ['nunique']}))"
   ]
  },
  {
   "cell_type": "markdown",
   "id": "48d2edcf",
   "metadata": {},
   "source": [
    "Наибольшее количество пользователей у MainScreenAppear"
   ]
  },
  {
   "cell_type": "markdown",
   "id": "a067708a",
   "metadata": {},
   "source": [
    "### Задание под пунктом 7\n"
   ]
  },
  {
   "cell_type": "markdown",
   "id": "4a0c9cea",
   "metadata": {},
   "source": [
    "Определение количества пользователей в каждой группе\n"
   ]
  },
  {
   "cell_type": "code",
   "execution_count": 35,
   "id": "8b2fed24",
   "metadata": {},
   "outputs": [
    {
     "data": {
      "text/html": [
       "<div>\n",
       "<style scoped>\n",
       "    .dataframe tbody tr th:only-of-type {\n",
       "        vertical-align: middle;\n",
       "    }\n",
       "\n",
       "    .dataframe tbody tr th {\n",
       "        vertical-align: top;\n",
       "    }\n",
       "\n",
       "    .dataframe thead th {\n",
       "        text-align: right;\n",
       "    }\n",
       "</style>\n",
       "<table border=\"1\" class=\"dataframe\">\n",
       "  <thead>\n",
       "    <tr style=\"text-align: right;\">\n",
       "      <th></th>\n",
       "      <th>ExpId</th>\n",
       "      <th>DeviceIDHash</th>\n",
       "    </tr>\n",
       "  </thead>\n",
       "  <tbody>\n",
       "    <tr>\n",
       "      <th>0</th>\n",
       "      <td>246</td>\n",
       "      <td>2489</td>\n",
       "    </tr>\n",
       "    <tr>\n",
       "      <th>1</th>\n",
       "      <td>247</td>\n",
       "      <td>2520</td>\n",
       "    </tr>\n",
       "    <tr>\n",
       "      <th>2</th>\n",
       "      <td>248</td>\n",
       "      <td>2542</td>\n",
       "    </tr>\n",
       "  </tbody>\n",
       "</table>\n",
       "</div>"
      ],
      "text/plain": [
       "   ExpId  DeviceIDHash\n",
       "0    246          2489\n",
       "1    247          2520\n",
       "2    248          2542"
      ]
     },
     "execution_count": 35,
     "metadata": {},
     "output_type": "execute_result"
    }
   ],
   "source": [
    "users = log_exp.groupby('ExpId')['DeviceIDHash'].nunique().reset_index() \n",
    "users"
   ]
  },
  {
   "cell_type": "markdown",
   "id": "1574e11e",
   "metadata": {},
   "source": [
    "Наибольшее количество пользователей в группе 248"
   ]
  },
  {
   "cell_type": "markdown",
   "id": "61d5393b",
   "metadata": {},
   "source": [
    "### Задание под пунктом 8"
   ]
  },
  {
   "cell_type": "markdown",
   "id": "17d5fc37",
   "metadata": {},
   "source": [
    "Нахождение пользователей, которые пересекаются (присутствуют в обоихгруппах), если они есть"
   ]
  },
  {
   "cell_type": "code",
   "execution_count": null,
   "id": "80c5a269",
   "metadata": {},
   "outputs": [],
   "source": [
    "a = log_exp.groupby('DeviceIDHash').agg({'ExpId': ['nunique']})\n",
    "print(a)"
   ]
  },
  {
   "cell_type": "code",
   "execution_count": null,
   "id": "986ba453",
   "metadata": {},
   "outputs": [],
   "source": [
    "for el in a.itertuples():\n",
    "    a1, a2 = el\n",
    "    if a2 > 1:\n",
    "        print(a1)"
   ]
  },
  {
   "cell_type": "markdown",
   "id": "c880578b",
   "metadata": {},
   "source": [
    "Никакие данные не вывелись, следовательно, пересекающиеся пользователи отсутствуют"
   ]
  },
  {
   "cell_type": "markdown",
   "id": "796e2182",
   "metadata": {},
   "source": [
    "#### Задание под пунктом 9"
   ]
  },
  {
   "cell_type": "markdown",
   "id": "0487e8e3",
   "metadata": {},
   "source": [
    "Провести А\\А тест: Нулевая гипотеза - группы 246 и 247 не имеют различий Альтернативная гипотеза - группа 246 и 247 отличаются\n"
   ]
  },
  {
   "cell_type": "code",
   "execution_count": null,
   "id": "958e9c87",
   "metadata": {},
   "outputs": [],
   "source": [
    "import math\n",
    "from scipy import stats"
   ]
  },
  {
   "cell_type": "code",
   "execution_count": null,
   "id": "56bb936e",
   "metadata": {},
   "outputs": [],
   "source": [
    "log_exp = log_exp.rename(columns={'EventName':'event_name','DeviceIDHash': 'user_id', 'EventTimestamp': 'event_time','ExpId':'group'}) "
   ]
  },
  {
   "cell_type": "code",
   "execution_count": null,
   "id": "ace4f992",
   "metadata": {},
   "outputs": [],
   "source": [
    "def test_groups(group_a, group_b, event, alpha):\n",
    "    #получим количество успехов\n",
    "    group_users = np.array([log_exp.query('event_name == @event and group == @group_a').user_id.nunique(),\n",
    "                            log_exp.query('event_name == @event and group == @group_b').user_id.nunique()])\n",
    "    #получим количество пользователей в группах\n",
    "    total_users = np.array([log_exp.query('group == @group_a').user_id.nunique(),\n",
    "                            log_exp.query('group == @group_b').user_id.nunique()])\n",
    "    # пропорция успехов в первой группе:\n",
    "    p1 = group_users[0]/total_users[0]\n",
    "    # пропорция успехов во второй группе:\n",
    "    p2 = group_users[1]/total_users[1]\n",
    "    # пропорция успехов в комбинированном датасете:\n",
    "    p_combined = (group_users[0] + group_users[1]) / (total_users[0] + total_users[1])\n",
    "    # разница пропорций в датасетах\n",
    "    difference = p1 - p2 \n",
    "    # считаем статистику в ст.отклонениях стандартного нормального распределения\n",
    "    z_value = difference / math.sqrt(p_combined * (1 - p_combined) * (1 / total_users[0] + 1 / total_users[1]))\n",
    "    # задаем стандартное нормальное распределение (среднее 0, ст.отклонение 1) \n",
    "    distr = stats.norm(0, 1)\n",
    "    p_value = (1 - distr.cdf(abs(z_value))) * 2\n",
    "    print('p-значение: ', p_value)\n",
    "    if p_value < alpha:\n",
    "        print('Отвергаем нулевую гипотезу: есть значимая разница между долями')\n",
    "    else:\n",
    "        print('Не получилось отвергнуть нулевую гипотезу, нет оснований считать доли разными')"
   ]
  },
  {
   "cell_type": "code",
   "execution_count": null,
   "id": "3183406f",
   "metadata": {},
   "outputs": [],
   "source": [
    "test_groups(246, 247, \"PaymentScreenSuccessful\", 0.05)"
   ]
  },
  {
   "cell_type": "code",
   "execution_count": null,
   "id": "220a4e41",
   "metadata": {},
   "outputs": [],
   "source": [
    "test_groups(246, 247, \"CartScreenAppear\", 0.05)"
   ]
  },
  {
   "cell_type": "code",
   "execution_count": null,
   "id": "96040840",
   "metadata": {},
   "outputs": [],
   "source": [
    "test_groups(246, 247, \"MainScreenAppear\", 0.05)"
   ]
  },
  {
   "cell_type": "code",
   "execution_count": null,
   "id": "d14576cb",
   "metadata": {},
   "outputs": [],
   "source": [
    "test_groups(246, 247, \"OffersScreenAppear\", 0.05)"
   ]
  },
  {
   "cell_type": "code",
   "execution_count": null,
   "id": "9a13c41a",
   "metadata": {},
   "outputs": [],
   "source": [
    "test_groups(246, 247, \"Tutorial\", 0.05)"
   ]
  },
  {
   "cell_type": "markdown",
   "id": "e55e328d",
   "metadata": {},
   "source": [
    "### Задание под пунктом 10"
   ]
  },
  {
   "cell_type": "markdown",
   "id": "03bb5115",
   "metadata": {},
   "source": [
    "Проведение А/В теста"
   ]
  },
  {
   "cell_type": "code",
   "execution_count": null,
   "id": "2047e0ee",
   "metadata": {},
   "outputs": [],
   "source": [
    "test_groups(246, 248, \"CartScreenAppear\", 0.05)"
   ]
  },
  {
   "cell_type": "code",
   "execution_count": null,
   "id": "c6d2828f",
   "metadata": {},
   "outputs": [],
   "source": [
    "test_groups(246, 248, \"MainScreenAppear\", 0.05)"
   ]
  },
  {
   "cell_type": "code",
   "execution_count": null,
   "id": "dd21b7b6",
   "metadata": {},
   "outputs": [],
   "source": [
    "test_groups(246, 248, \"OffersScreenAppear\", 0.05)"
   ]
  },
  {
   "cell_type": "code",
   "execution_count": null,
   "id": "cff18d2b",
   "metadata": {},
   "outputs": [],
   "source": [
    "test_groups(246, 248, \"PaymentScreenSuccessful\", 0.05)"
   ]
  },
  {
   "cell_type": "code",
   "execution_count": null,
   "id": "bca267aa",
   "metadata": {},
   "outputs": [],
   "source": [
    "test_groups(246, 248, \"Tutorial\", 0.05)"
   ]
  },
  {
   "cell_type": "markdown",
   "id": "916f087e",
   "metadata": {},
   "source": [
    "# Вывод"
   ]
  },
  {
   "cell_type": "markdown",
   "id": "6aae679b",
   "metadata": {},
   "source": [
    "В ходе выполнения работы были добавлены необходимые датасеты с помощью pandas. Была произведена предварительная обработка данных для каждого набора данных: проверка на наличие пропусков, выявление явных и неявных дубликатов, изменение типов данных столбцов при необходимости. Был произведен поиск пересекающихся и выполнено их удаление. Также был создан массив уникальных пар значений дат и групп теста, получены агрегированные кумулятивные данные по дням о заказах и по дням о посетителях. Произведено объединение данных в одной таблице: date, group, orders, buyers, revenue, visitors. \n",
    "Затем было выполнено задание по вариантам. В ходе задания по вариантам был изображен точечный график числа заказов по пользователям. \n",
    "Затем была выполнена вторая часть задания, где также был добавлен необходимый датасет и выполнена предварительная обработка данных. Затем был выполнен вывод на экран каждого события в порядке убывания частоты, подсчитано сколько пользователей совершали каждое из этих событий, определено количество пользователей в каждой группе, произведен поиск пользователей, которые пересекаются в группа, но такие не выявлены. Затем были выполнены А/А и А/В тесты.\n"
   ]
  },
  {
   "cell_type": "markdown",
   "id": "f2ca9783",
   "metadata": {},
   "source": [
    "# Дополнительное задание"
   ]
  },
  {
   "cell_type": "markdown",
   "id": "6b9a3271",
   "metadata": {},
   "source": [
    "3 вариант – Изобразить график конверсии по группам А и B. По оси x – date, по оси y – конверсия. Для подсчета конверсии используйте - cumulativeData['orders']/cumulativeData['visitors']"
   ]
  },
  {
   "cell_type": "markdown",
   "id": "1106b955",
   "metadata": {},
   "source": [
    "Разделить cumulativeData на cumulativeRevenueA и cumulativeRevenueB – для группы А и B"
   ]
  },
  {
   "cell_type": "code",
   "execution_count": null,
   "id": "ad27f406",
   "metadata": {},
   "outputs": [],
   "source": [
    "cumulativeRevenueA = cumulativeData[cumulativeData['group'] == 'A']\n",
    "cumulativeRevenueB = cumulativeData[cumulativeData['group'] == 'B']"
   ]
  },
  {
   "cell_type": "code",
   "execution_count": null,
   "id": "1aad5b19",
   "metadata": {},
   "outputs": [],
   "source": [
    "cumulativeRevenueA.head()"
   ]
  },
  {
   "cell_type": "code",
   "execution_count": null,
   "id": "584f5046",
   "metadata": {},
   "outputs": [],
   "source": [
    "cumulativeRevenueB.head()"
   ]
  },
  {
   "cell_type": "markdown",
   "id": "1d385b23",
   "metadata": {},
   "source": [
    "### Построение графика"
   ]
  },
  {
   "cell_type": "code",
   "execution_count": null,
   "id": "afd113c0",
   "metadata": {},
   "outputs": [],
   "source": [
    "fig, ax = plt.subplots()\n",
    "ax.plot(cumulativeRevenueA['date'], cumulativeRevenueA['orders']/cumulativeRevenueA['visitors'], linewidth=2.0, label = 'A')\n",
    "ax.plot(cumulativeRevenueB['date'], cumulativeRevenueB['orders']/cumulativeRevenueB['visitors'], linewidth=2.0, label = 'B')\n",
    "ax.set_title('График конверсии по группам')\n",
    "ax.set_xlabel('Дата')\n",
    "ax.set_ylabel('Конверсия')\n",
    "ax.tick_params(axis='x', rotation=70)\n",
    "ax.legend()\n",
    "plt.show()"
   ]
  },
  {
   "cell_type": "markdown",
   "id": "d994a643",
   "metadata": {},
   "source": [
    "Исходя из графика можно сделать вывод, что у группы А со временем уменьшается количество заказов к посещениям, у группы В на начальном этапе увеличивается количество заказов к посещениям, но затем примерно становится равным среднему значению"
   ]
  }
 ],
 "metadata": {
  "kernelspec": {
   "display_name": "Python 3",
   "language": "python",
   "name": "python3"
  },
  "language_info": {
   "codemirror_mode": {
    "name": "ipython",
    "version": 3
   },
   "file_extension": ".py",
   "mimetype": "text/x-python",
   "name": "python",
   "nbconvert_exporter": "python",
   "pygments_lexer": "ipython3",
   "version": "3.8.8"
  }
 },
 "nbformat": 4,
 "nbformat_minor": 5
}
