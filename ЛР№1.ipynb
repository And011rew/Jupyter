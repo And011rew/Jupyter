{
 "cells": [
  {
   "cell_type": "code",
   "execution_count": 1,
   "id": "df48b4c0",
   "metadata": {},
   "outputs": [],
   "source": [
    "import pandas as pd"
   ]
  },
  {
   "cell_type": "code",
   "execution_count": 2,
   "id": "1a45f0a7",
   "metadata": {},
   "outputs": [],
   "source": [
    "df = pd.read_csv('4liver.csv', delimiter=',')"
   ]
  },
  {
   "cell_type": "markdown",
   "id": "43749e39",
   "metadata": {},
   "source": [
    "Вывод первых 20 строк. Данный датасет отображает данные по заболеваемости печени у людей разного возраста и пола. Датасет содержит данные о возрасте пациентов, его поле, общем и прямом билирубине, щелочной фосфатазе, аламиноаминотрансферазе, аспартитиминотрансферазе, общем количестве белков, альбумине, соотношении альбуминов и глобулинов и столбец для определения наблюдается ли данный пациент с заболеванием печени или нет."
   ]
  },
  {
   "cell_type": "code",
   "execution_count": 3,
   "id": "3b88a322",
   "metadata": {
    "scrolled": false
   },
   "outputs": [
    {
     "data": {
      "text/html": [
       "<div>\n",
       "<style scoped>\n",
       "    .dataframe tbody tr th:only-of-type {\n",
       "        vertical-align: middle;\n",
       "    }\n",
       "\n",
       "    .dataframe tbody tr th {\n",
       "        vertical-align: top;\n",
       "    }\n",
       "\n",
       "    .dataframe thead th {\n",
       "        text-align: right;\n",
       "    }\n",
       "</style>\n",
       "<table border=\"1\" class=\"dataframe\">\n",
       "  <thead>\n",
       "    <tr style=\"text-align: right;\">\n",
       "      <th></th>\n",
       "      <th>Age</th>\n",
       "      <th>Gender</th>\n",
       "      <th>TotalBilirubin</th>\n",
       "      <th>Direct_Bilirubin</th>\n",
       "      <th>Alkaline_Phosphotase</th>\n",
       "      <th>Alamine_Aminotransferase</th>\n",
       "      <th>Aspartate_Aminotransferase</th>\n",
       "      <th>Total_Protiens</th>\n",
       "      <th>Albumin</th>\n",
       "      <th>Albumin_and_Globulin_Ratio</th>\n",
       "      <th>Dataset123</th>\n",
       "    </tr>\n",
       "  </thead>\n",
       "  <tbody>\n",
       "    <tr>\n",
       "      <th>0</th>\n",
       "      <td>65</td>\n",
       "      <td>Female</td>\n",
       "      <td>0.7</td>\n",
       "      <td>0.1</td>\n",
       "      <td>187.0</td>\n",
       "      <td>16</td>\n",
       "      <td>18</td>\n",
       "      <td>6.8</td>\n",
       "      <td>3.3</td>\n",
       "      <td>0.90</td>\n",
       "      <td>1</td>\n",
       "    </tr>\n",
       "    <tr>\n",
       "      <th>1</th>\n",
       "      <td>62</td>\n",
       "      <td>Male</td>\n",
       "      <td>10.9</td>\n",
       "      <td>5.5</td>\n",
       "      <td>699.0</td>\n",
       "      <td>64</td>\n",
       "      <td>100</td>\n",
       "      <td>7.5</td>\n",
       "      <td>3.2</td>\n",
       "      <td>0.74</td>\n",
       "      <td>1</td>\n",
       "    </tr>\n",
       "    <tr>\n",
       "      <th>2</th>\n",
       "      <td>62</td>\n",
       "      <td>Male</td>\n",
       "      <td>7.3</td>\n",
       "      <td>4.1</td>\n",
       "      <td>490.0</td>\n",
       "      <td>60</td>\n",
       "      <td>68</td>\n",
       "      <td>7.0</td>\n",
       "      <td>3.3</td>\n",
       "      <td>0.89</td>\n",
       "      <td>1</td>\n",
       "    </tr>\n",
       "    <tr>\n",
       "      <th>3</th>\n",
       "      <td>58</td>\n",
       "      <td>Male</td>\n",
       "      <td>1.0</td>\n",
       "      <td>0.4</td>\n",
       "      <td>182.0</td>\n",
       "      <td>14</td>\n",
       "      <td>20</td>\n",
       "      <td>6.8</td>\n",
       "      <td>3.4</td>\n",
       "      <td>1.00</td>\n",
       "      <td>1</td>\n",
       "    </tr>\n",
       "    <tr>\n",
       "      <th>4</th>\n",
       "      <td>72</td>\n",
       "      <td>Male</td>\n",
       "      <td>3.9</td>\n",
       "      <td>2.0</td>\n",
       "      <td>195.0</td>\n",
       "      <td>27</td>\n",
       "      <td>59</td>\n",
       "      <td>7.3</td>\n",
       "      <td>2.4</td>\n",
       "      <td>0.40</td>\n",
       "      <td>1</td>\n",
       "    </tr>\n",
       "    <tr>\n",
       "      <th>5</th>\n",
       "      <td>46</td>\n",
       "      <td>Male</td>\n",
       "      <td>1.8</td>\n",
       "      <td>0.7</td>\n",
       "      <td>208.0</td>\n",
       "      <td>19</td>\n",
       "      <td>14</td>\n",
       "      <td>7.6</td>\n",
       "      <td>4.4</td>\n",
       "      <td>1.30</td>\n",
       "      <td>1</td>\n",
       "    </tr>\n",
       "    <tr>\n",
       "      <th>6</th>\n",
       "      <td>26</td>\n",
       "      <td>Female</td>\n",
       "      <td>0.9</td>\n",
       "      <td>0.2</td>\n",
       "      <td>154.0</td>\n",
       "      <td>16</td>\n",
       "      <td>12</td>\n",
       "      <td>7.0</td>\n",
       "      <td>3.5</td>\n",
       "      <td>1.00</td>\n",
       "      <td>1</td>\n",
       "    </tr>\n",
       "    <tr>\n",
       "      <th>7</th>\n",
       "      <td>29</td>\n",
       "      <td>Female</td>\n",
       "      <td>0.9</td>\n",
       "      <td>0.3</td>\n",
       "      <td>202.0</td>\n",
       "      <td>14</td>\n",
       "      <td>11</td>\n",
       "      <td>6.7</td>\n",
       "      <td>3.6</td>\n",
       "      <td>1.10</td>\n",
       "      <td>1</td>\n",
       "    </tr>\n",
       "    <tr>\n",
       "      <th>8</th>\n",
       "      <td>17</td>\n",
       "      <td>Male</td>\n",
       "      <td>0.9</td>\n",
       "      <td>0.3</td>\n",
       "      <td>202.0</td>\n",
       "      <td>22</td>\n",
       "      <td>19</td>\n",
       "      <td>7.4</td>\n",
       "      <td>4.1</td>\n",
       "      <td>1.20</td>\n",
       "      <td>2</td>\n",
       "    </tr>\n",
       "    <tr>\n",
       "      <th>9</th>\n",
       "      <td>55</td>\n",
       "      <td>Male</td>\n",
       "      <td>0.7</td>\n",
       "      <td>0.2</td>\n",
       "      <td>290.0</td>\n",
       "      <td>53</td>\n",
       "      <td>58</td>\n",
       "      <td>6.8</td>\n",
       "      <td>3.4</td>\n",
       "      <td>1.00</td>\n",
       "      <td>1</td>\n",
       "    </tr>\n",
       "    <tr>\n",
       "      <th>10</th>\n",
       "      <td>57</td>\n",
       "      <td>Male</td>\n",
       "      <td>0.6</td>\n",
       "      <td>0.1</td>\n",
       "      <td>210.0</td>\n",
       "      <td>51</td>\n",
       "      <td>59</td>\n",
       "      <td>5.9</td>\n",
       "      <td>2.7</td>\n",
       "      <td>0.80</td>\n",
       "      <td>1</td>\n",
       "    </tr>\n",
       "    <tr>\n",
       "      <th>11</th>\n",
       "      <td>72</td>\n",
       "      <td>Male</td>\n",
       "      <td>2.7</td>\n",
       "      <td>1.3</td>\n",
       "      <td>260.0</td>\n",
       "      <td>31</td>\n",
       "      <td>56</td>\n",
       "      <td>7.4</td>\n",
       "      <td>3.0</td>\n",
       "      <td>0.60</td>\n",
       "      <td>1</td>\n",
       "    </tr>\n",
       "    <tr>\n",
       "      <th>12</th>\n",
       "      <td>64</td>\n",
       "      <td>Male</td>\n",
       "      <td>0.9</td>\n",
       "      <td>0.3</td>\n",
       "      <td>310.0</td>\n",
       "      <td>61</td>\n",
       "      <td>58</td>\n",
       "      <td>7.0</td>\n",
       "      <td>3.4</td>\n",
       "      <td>0.90</td>\n",
       "      <td>2</td>\n",
       "    </tr>\n",
       "    <tr>\n",
       "      <th>13</th>\n",
       "      <td>74</td>\n",
       "      <td>Female</td>\n",
       "      <td>1.1</td>\n",
       "      <td>0.4</td>\n",
       "      <td>214.0</td>\n",
       "      <td>22</td>\n",
       "      <td>30</td>\n",
       "      <td>8.1</td>\n",
       "      <td>4.1</td>\n",
       "      <td>1.00</td>\n",
       "      <td>1</td>\n",
       "    </tr>\n",
       "    <tr>\n",
       "      <th>14</th>\n",
       "      <td>61</td>\n",
       "      <td>Male</td>\n",
       "      <td>0.7</td>\n",
       "      <td>0.2</td>\n",
       "      <td>145.0</td>\n",
       "      <td>53</td>\n",
       "      <td>41</td>\n",
       "      <td>5.8</td>\n",
       "      <td>2.7</td>\n",
       "      <td>0.87</td>\n",
       "      <td>1</td>\n",
       "    </tr>\n",
       "    <tr>\n",
       "      <th>15</th>\n",
       "      <td>25</td>\n",
       "      <td>Male</td>\n",
       "      <td>0.6</td>\n",
       "      <td>0.1</td>\n",
       "      <td>183.0</td>\n",
       "      <td>91</td>\n",
       "      <td>53</td>\n",
       "      <td>5.5</td>\n",
       "      <td>2.3</td>\n",
       "      <td>0.70</td>\n",
       "      <td>2</td>\n",
       "    </tr>\n",
       "    <tr>\n",
       "      <th>16</th>\n",
       "      <td>38</td>\n",
       "      <td>Male</td>\n",
       "      <td>1.8</td>\n",
       "      <td>0.8</td>\n",
       "      <td>342.0</td>\n",
       "      <td>168</td>\n",
       "      <td>441</td>\n",
       "      <td>7.6</td>\n",
       "      <td>4.4</td>\n",
       "      <td>1.30</td>\n",
       "      <td>1</td>\n",
       "    </tr>\n",
       "    <tr>\n",
       "      <th>17</th>\n",
       "      <td>33</td>\n",
       "      <td>Male</td>\n",
       "      <td>1.6</td>\n",
       "      <td>0.5</td>\n",
       "      <td>165.0</td>\n",
       "      <td>15</td>\n",
       "      <td>23</td>\n",
       "      <td>7.3</td>\n",
       "      <td>3.5</td>\n",
       "      <td>0.92</td>\n",
       "      <td>2</td>\n",
       "    </tr>\n",
       "    <tr>\n",
       "      <th>18</th>\n",
       "      <td>40</td>\n",
       "      <td>Female</td>\n",
       "      <td>0.9</td>\n",
       "      <td>0.3</td>\n",
       "      <td>293.0</td>\n",
       "      <td>232</td>\n",
       "      <td>245</td>\n",
       "      <td>6.8</td>\n",
       "      <td>3.1</td>\n",
       "      <td>0.80</td>\n",
       "      <td>1</td>\n",
       "    </tr>\n",
       "    <tr>\n",
       "      <th>19</th>\n",
       "      <td>40</td>\n",
       "      <td>Female</td>\n",
       "      <td>0.9</td>\n",
       "      <td>0.3</td>\n",
       "      <td>293.0</td>\n",
       "      <td>232</td>\n",
       "      <td>245</td>\n",
       "      <td>6.8</td>\n",
       "      <td>3.1</td>\n",
       "      <td>0.80</td>\n",
       "      <td>1</td>\n",
       "    </tr>\n",
       "  </tbody>\n",
       "</table>\n",
       "</div>"
      ],
      "text/plain": [
       "    Age  Gender  TotalBilirubin  Direct_Bilirubin  Alkaline_Phosphotase  \\\n",
       "0    65  Female             0.7               0.1                 187.0   \n",
       "1    62    Male            10.9               5.5                 699.0   \n",
       "2    62    Male             7.3               4.1                 490.0   \n",
       "3    58    Male             1.0               0.4                 182.0   \n",
       "4    72    Male             3.9               2.0                 195.0   \n",
       "5    46    Male             1.8               0.7                 208.0   \n",
       "6    26  Female             0.9               0.2                 154.0   \n",
       "7    29  Female             0.9               0.3                 202.0   \n",
       "8    17    Male             0.9               0.3                 202.0   \n",
       "9    55    Male             0.7               0.2                 290.0   \n",
       "10   57    Male             0.6               0.1                 210.0   \n",
       "11   72    Male             2.7               1.3                 260.0   \n",
       "12   64    Male             0.9               0.3                 310.0   \n",
       "13   74  Female             1.1               0.4                 214.0   \n",
       "14   61    Male             0.7               0.2                 145.0   \n",
       "15   25    Male             0.6               0.1                 183.0   \n",
       "16   38    Male             1.8               0.8                 342.0   \n",
       "17   33    Male             1.6               0.5                 165.0   \n",
       "18   40  Female             0.9               0.3                 293.0   \n",
       "19   40  Female             0.9               0.3                 293.0   \n",
       "\n",
       "    Alamine_Aminotransferase Aspartate_Aminotransferase  Total_Protiens  \\\n",
       "0                         16                         18             6.8   \n",
       "1                         64                        100             7.5   \n",
       "2                         60                         68             7.0   \n",
       "3                         14                         20             6.8   \n",
       "4                         27                         59             7.3   \n",
       "5                         19                         14             7.6   \n",
       "6                         16                         12             7.0   \n",
       "7                         14                         11             6.7   \n",
       "8                         22                         19             7.4   \n",
       "9                         53                         58             6.8   \n",
       "10                        51                         59             5.9   \n",
       "11                        31                         56             7.4   \n",
       "12                        61                         58             7.0   \n",
       "13                        22                         30             8.1   \n",
       "14                        53                         41             5.8   \n",
       "15                        91                         53             5.5   \n",
       "16                       168                        441             7.6   \n",
       "17                        15                         23             7.3   \n",
       "18                       232                        245             6.8   \n",
       "19                       232                        245             6.8   \n",
       "\n",
       "    Albumin  Albumin_and_Globulin_Ratio Dataset123  \n",
       "0       3.3                        0.90          1  \n",
       "1       3.2                        0.74          1  \n",
       "2       3.3                        0.89          1  \n",
       "3       3.4                        1.00          1  \n",
       "4       2.4                        0.40          1  \n",
       "5       4.4                        1.30          1  \n",
       "6       3.5                        1.00          1  \n",
       "7       3.6                        1.10          1  \n",
       "8       4.1                        1.20          2  \n",
       "9       3.4                        1.00          1  \n",
       "10      2.7                        0.80          1  \n",
       "11      3.0                        0.60          1  \n",
       "12      3.4                        0.90          2  \n",
       "13      4.1                        1.00          1  \n",
       "14      2.7                        0.87          1  \n",
       "15      2.3                        0.70          2  \n",
       "16      4.4                        1.30          1  \n",
       "17      3.5                        0.92          2  \n",
       "18      3.1                        0.80          1  \n",
       "19      3.1                        0.80          1  "
      ]
     },
     "execution_count": 3,
     "metadata": {},
     "output_type": "execute_result"
    }
   ],
   "source": [
    "df.head(20)"
   ]
  },
  {
   "cell_type": "markdown",
   "id": "ba950ef2",
   "metadata": {},
   "source": [
    "Информация о датасете\n",
    "Датасет содержит 11 столбцов и 587 строк. Столбцы имеют типы данных: float64 в количестве 6, int64 в количестве 2 и 3 столбца с типом данных object."
   ]
  },
  {
   "cell_type": "code",
   "execution_count": 4,
   "id": "4b8fbd8c",
   "metadata": {
    "scrolled": false
   },
   "outputs": [
    {
     "name": "stdout",
     "output_type": "stream",
     "text": [
      "<class 'pandas.core.frame.DataFrame'>\n",
      "RangeIndex: 587 entries, 0 to 586\n",
      "Data columns (total 11 columns):\n",
      " #   Column                      Non-Null Count  Dtype  \n",
      "---  ------                      --------------  -----  \n",
      " 0   Age                         587 non-null    int64  \n",
      " 1   Gender                      587 non-null    object \n",
      " 2   TotalBilirubin              585 non-null    float64\n",
      " 3   Direct_Bilirubin            587 non-null    float64\n",
      " 4   Alkaline_Phosphotase        586 non-null    float64\n",
      " 5   Alamine_Aminotransferase    587 non-null    int64  \n",
      " 6   Aspartate_Aminotransferase  587 non-null    object \n",
      " 7   Total_Protiens              587 non-null    float64\n",
      " 8   Albumin                     587 non-null    float64\n",
      " 9   Albumin_and_Globulin_Ratio  583 non-null    float64\n",
      " 10  Dataset123                  587 non-null    object \n",
      "dtypes: float64(6), int64(2), object(3)\n",
      "memory usage: 50.6+ KB\n"
     ]
    }
   ],
   "source": [
    "df.info()"
   ]
  },
  {
   "cell_type": "markdown",
   "id": "0db8cca9",
   "metadata": {},
   "source": [
    "Изменение названия столбца Dataset123, так как данное название не отображает сути представленных в нем данных\n",
    "Также было изменено название столбца totalbilirubin, так как отсутствовало нижнее подчеркивание между 2 словами total_bilirubin\n",
    "Также выполнен перевод в нижний регистр"
   ]
  },
  {
   "cell_type": "code",
   "execution_count": 5,
   "id": "e7f6b8dd",
   "metadata": {},
   "outputs": [],
   "source": [
    "df = df.rename(columns={'Dataset123':'Purpose'})\n",
    "df = df.rename(columns={'TotalBilirubin': 'Total_Bilirubin'})\n",
    "df.columns = df.columns.str.lower()"
   ]
  },
  {
   "cell_type": "markdown",
   "id": "8f7d6ccf",
   "metadata": {},
   "source": [
    "Вывод названий всех столбцов"
   ]
  },
  {
   "cell_type": "code",
   "execution_count": 6,
   "id": "77741aaf",
   "metadata": {
    "scrolled": true
   },
   "outputs": [
    {
     "data": {
      "text/plain": [
       "Index(['age', 'gender', 'total_bilirubin', 'direct_bilirubin',\n",
       "       'alkaline_phosphotase', 'alamine_aminotransferase',\n",
       "       'aspartate_aminotransferase', 'total_protiens', 'albumin',\n",
       "       'albumin_and_globulin_ratio', 'purpose'],\n",
       "      dtype='object')"
      ]
     },
     "execution_count": 6,
     "metadata": {},
     "output_type": "execute_result"
    }
   ],
   "source": [
    "df.columns"
   ]
  },
  {
   "cell_type": "markdown",
   "id": "49e528c2",
   "metadata": {},
   "source": [
    "Выявление и удаление явных дубликатов. Производится удаление строк, которые полностью повторяют уже встречавшиеся в датасете.\n",
    "После удаления явных дубликатов стоит обновить индексацию, чтобы в ней не осталось пропусков. При использовании метода reset_index() индексы становятся новой колонкой с названием index и все строки получают новые индексы без пропусков."
   ]
  },
  {
   "cell_type": "code",
   "execution_count": 7,
   "id": "b03947ad",
   "metadata": {},
   "outputs": [
    {
     "data": {
      "text/plain": [
       "15"
      ]
     },
     "execution_count": 7,
     "metadata": {},
     "output_type": "execute_result"
    }
   ],
   "source": [
    "df.duplicated().sum()"
   ]
  },
  {
   "cell_type": "code",
   "execution_count": 8,
   "id": "c9eb471c",
   "metadata": {},
   "outputs": [],
   "source": [
    "df = df.drop_duplicates().reset_index()"
   ]
  },
  {
   "cell_type": "code",
   "execution_count": 9,
   "id": "5d7a45bb",
   "metadata": {},
   "outputs": [
    {
     "data": {
      "text/plain": [
       "0"
      ]
     },
     "execution_count": 9,
     "metadata": {},
     "output_type": "execute_result"
    }
   ],
   "source": [
    "df.duplicated().sum()"
   ]
  },
  {
   "cell_type": "markdown",
   "id": "c6e8a4e1",
   "metadata": {},
   "source": [
    "Поиск и удаление пропусков\n",
    "Так как количество строк, имеющие пропуски, является незначительным, то можно просто удалить эти строки"
   ]
  },
  {
   "cell_type": "code",
   "execution_count": 10,
   "id": "2bf603d7",
   "metadata": {
    "scrolled": true
   },
   "outputs": [
    {
     "data": {
      "text/plain": [
       "index                         0\n",
       "age                           0\n",
       "gender                        0\n",
       "total_bilirubin               2\n",
       "direct_bilirubin              0\n",
       "alkaline_phosphotase          1\n",
       "alamine_aminotransferase      0\n",
       "aspartate_aminotransferase    0\n",
       "total_protiens                0\n",
       "albumin                       0\n",
       "albumin_and_globulin_ratio    4\n",
       "purpose                       0\n",
       "dtype: int64"
      ]
     },
     "execution_count": 10,
     "metadata": {},
     "output_type": "execute_result"
    }
   ],
   "source": [
    "df.isna().sum()"
   ]
  },
  {
   "cell_type": "code",
   "execution_count": 11,
   "id": "1b5125d2",
   "metadata": {},
   "outputs": [],
   "source": [
    "df = df.dropna(subset=['total_bilirubin', 'alkaline_phosphotase', \n",
    "                       'albumin_and_globulin_ratio'])"
   ]
  },
  {
   "cell_type": "code",
   "execution_count": 12,
   "id": "3eecd98e",
   "metadata": {},
   "outputs": [
    {
     "data": {
      "text/plain": [
       "index                         0\n",
       "age                           0\n",
       "gender                        0\n",
       "total_bilirubin               0\n",
       "direct_bilirubin              0\n",
       "alkaline_phosphotase          0\n",
       "alamine_aminotransferase      0\n",
       "aspartate_aminotransferase    0\n",
       "total_protiens                0\n",
       "albumin                       0\n",
       "albumin_and_globulin_ratio    0\n",
       "purpose                       0\n",
       "dtype: int64"
      ]
     },
     "execution_count": 12,
     "metadata": {},
     "output_type": "execute_result"
    }
   ],
   "source": [
    "df.isna().sum()"
   ]
  },
  {
   "cell_type": "markdown",
   "id": "8937015d",
   "metadata": {},
   "source": [
    "Выявление и удаление неявных дубликатов\n",
    "В столбце gender была опечатка в слове Mal, слово было исправлено на Male\n",
    "В столбце purpose был добавлен лишний параметр yes, поэтому он был заменен на 1\n"
   ]
  },
  {
   "cell_type": "code",
   "execution_count": 13,
   "id": "3f30ebc4",
   "metadata": {},
   "outputs": [
    {
     "data": {
      "text/plain": [
       "array(['Female', 'Male', 'Mal'], dtype=object)"
      ]
     },
     "execution_count": 13,
     "metadata": {},
     "output_type": "execute_result"
    }
   ],
   "source": [
    "df['gender'].unique()"
   ]
  },
  {
   "cell_type": "code",
   "execution_count": 14,
   "id": "e61e8422",
   "metadata": {},
   "outputs": [],
   "source": [
    "df.loc[df['gender']=='Mal', 'gender'] = 'Male'"
   ]
  },
  {
   "cell_type": "code",
   "execution_count": 15,
   "id": "4a185789",
   "metadata": {},
   "outputs": [
    {
     "data": {
      "text/plain": [
       "array(['Female', 'Male'], dtype=object)"
      ]
     },
     "execution_count": 15,
     "metadata": {},
     "output_type": "execute_result"
    }
   ],
   "source": [
    "df['gender'].unique()"
   ]
  },
  {
   "cell_type": "code",
   "execution_count": 16,
   "id": "41b3d4a9",
   "metadata": {},
   "outputs": [
    {
     "data": {
      "text/plain": [
       "array(['1', '2', 'yes'], dtype=object)"
      ]
     },
     "execution_count": 16,
     "metadata": {},
     "output_type": "execute_result"
    }
   ],
   "source": [
    "df['purpose'].unique()"
   ]
  },
  {
   "cell_type": "code",
   "execution_count": 17,
   "id": "f7f79bb9",
   "metadata": {},
   "outputs": [
    {
     "data": {
      "text/plain": [
       "array(['1', '2'], dtype=object)"
      ]
     },
     "execution_count": 17,
     "metadata": {},
     "output_type": "execute_result"
    }
   ],
   "source": [
    "df.loc[df['purpose']=='yes', 'purpose'] = '1'\n",
    "df['purpose'].unique()"
   ]
  },
  {
   "cell_type": "markdown",
   "id": "91fc881e",
   "metadata": {},
   "source": [
    "Создание сводной таблицы\n",
    "В результате создания данной сводной таблицы можно пронаблюдать у пациентов разного возраста среднее количество белков в организме, возможно эти данные помогут выявить предрасположенность к данной болезни заранее."
   ]
  },
  {
   "cell_type": "code",
   "execution_count": 18,
   "id": "264f8c9e",
   "metadata": {
    "scrolled": true
   },
   "outputs": [
    {
     "data": {
      "text/html": [
       "<div>\n",
       "<style scoped>\n",
       "    .dataframe tbody tr th:only-of-type {\n",
       "        vertical-align: middle;\n",
       "    }\n",
       "\n",
       "    .dataframe tbody tr th {\n",
       "        vertical-align: top;\n",
       "    }\n",
       "\n",
       "    .dataframe thead th {\n",
       "        text-align: right;\n",
       "    }\n",
       "</style>\n",
       "<table border=\"1\" class=\"dataframe\">\n",
       "  <thead>\n",
       "    <tr style=\"text-align: right;\">\n",
       "      <th></th>\n",
       "      <th>total_protiens</th>\n",
       "    </tr>\n",
       "    <tr>\n",
       "      <th>age</th>\n",
       "      <th></th>\n",
       "    </tr>\n",
       "  </thead>\n",
       "  <tbody>\n",
       "    <tr>\n",
       "      <th>4</th>\n",
       "      <td>7.250000</td>\n",
       "    </tr>\n",
       "    <tr>\n",
       "      <th>6</th>\n",
       "      <td>4.800000</td>\n",
       "    </tr>\n",
       "    <tr>\n",
       "      <th>7</th>\n",
       "      <td>7.000000</td>\n",
       "    </tr>\n",
       "    <tr>\n",
       "      <th>8</th>\n",
       "      <td>7.500000</td>\n",
       "    </tr>\n",
       "    <tr>\n",
       "      <th>10</th>\n",
       "      <td>7.600000</td>\n",
       "    </tr>\n",
       "    <tr>\n",
       "      <th>...</th>\n",
       "      <td>...</td>\n",
       "    </tr>\n",
       "    <tr>\n",
       "      <th>75</th>\n",
       "      <td>5.178571</td>\n",
       "    </tr>\n",
       "    <tr>\n",
       "      <th>78</th>\n",
       "      <td>6.300000</td>\n",
       "    </tr>\n",
       "    <tr>\n",
       "      <th>84</th>\n",
       "      <td>6.000000</td>\n",
       "    </tr>\n",
       "    <tr>\n",
       "      <th>85</th>\n",
       "      <td>7.000000</td>\n",
       "    </tr>\n",
       "    <tr>\n",
       "      <th>90</th>\n",
       "      <td>6.900000</td>\n",
       "    </tr>\n",
       "  </tbody>\n",
       "</table>\n",
       "<p>72 rows × 1 columns</p>\n",
       "</div>"
      ],
      "text/plain": [
       "     total_protiens\n",
       "age                \n",
       "4          7.250000\n",
       "6          4.800000\n",
       "7          7.000000\n",
       "8          7.500000\n",
       "10         7.600000\n",
       "..              ...\n",
       "75         5.178571\n",
       "78         6.300000\n",
       "84         6.000000\n",
       "85         7.000000\n",
       "90         6.900000\n",
       "\n",
       "[72 rows x 1 columns]"
      ]
     },
     "execution_count": 18,
     "metadata": {},
     "output_type": "execute_result"
    }
   ],
   "source": [
    "df_pivot = df.pivot_table(index=['age'], aggfunc={'total_protiens':'mean'})\n",
    "df_pivot"
   ]
  },
  {
   "cell_type": "markdown",
   "id": "1b0c0618",
   "metadata": {},
   "source": [
    "Создание группировок"
   ]
  },
  {
   "cell_type": "markdown",
   "id": "49703196",
   "metadata": {},
   "source": [
    "С помощью данной группировки было выведено среднее значение общего билирубина у пациентов в зависимости от их пола."
   ]
  },
  {
   "cell_type": "code",
   "execution_count": 19,
   "id": "0964cb3f",
   "metadata": {},
   "outputs": [
    {
     "data": {
      "text/plain": [
       "gender\n",
       "Female    2.353623\n",
       "Male      3.655972\n",
       "Name: total_bilirubin, dtype: float64"
      ]
     },
     "execution_count": 19,
     "metadata": {},
     "output_type": "execute_result"
    }
   ],
   "source": [
    "df_gr = df.groupby('gender')['total_bilirubin'].mean()\n",
    "df_gr"
   ]
  },
  {
   "cell_type": "markdown",
   "id": "618cd09f",
   "metadata": {},
   "source": [
    "Данная группировка выводит среднее значение возраста пациентов, которые имеют проблемы с печенью и здоровых средний возраст здоровых людей."
   ]
  },
  {
   "cell_type": "code",
   "execution_count": 20,
   "id": "b4d4bf4d",
   "metadata": {},
   "outputs": [
    {
     "data": {
      "text/plain": [
       "purpose\n",
       "1    46.284653\n",
       "2    41.447205\n",
       "Name: age, dtype: float64"
      ]
     },
     "execution_count": 20,
     "metadata": {},
     "output_type": "execute_result"
    }
   ],
   "source": [
    "df_gr1 = df.groupby('purpose')['age'].mean()\n",
    "df_gr1"
   ]
  },
  {
   "cell_type": "markdown",
   "id": "0410ad1a",
   "metadata": {},
   "source": [
    "Были изучены: метод head, метод info, возможность вывода на экран названия столбцов, выявление и устранение пропусков, проверка данных на наличие явных и неявных дубликатов (устранение ошибок в написании слов, переименование неверных данных)  и удаление их, проверка на соответствие типов данных, создание сводных таблиц с помощью pivot_table и группировка данных с помощью group_by. При создании сводных таблиц и группировок было выявлено, что они отличаются тем, что группировка применяется к структуре данных типа Series для одномерных массивов, а сводная таблица применима к структуре данных DataFrame для двумерных таблиц, содержащих строки и столбцы.\n",
    "Данный набор данных помогает проследить за людьми с заболеванием печени, в нем можно наглядно увидеть в каком количестве в организме находятся те или иные вещества, как их количество зависит от возраста, пола или друг от друга и кто при определенных показаниях имеет предрасположенность к заболеванию."
   ]
  }
 ],
 "metadata": {
  "kernelspec": {
   "display_name": "Python 3",
   "language": "python",
   "name": "python3"
  },
  "language_info": {
   "codemirror_mode": {
    "name": "ipython",
    "version": 3
   },
   "file_extension": ".py",
   "mimetype": "text/x-python",
   "name": "python",
   "nbconvert_exporter": "python",
   "pygments_lexer": "ipython3",
   "version": "3.8.8"
  }
 },
 "nbformat": 4,
 "nbformat_minor": 5
}
